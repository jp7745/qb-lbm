{
 "cells": [
  {
   "cell_type": "code",
   "execution_count": 1,
   "metadata": {},
   "outputs": [],
   "source": [
    "# Copyright 2025 L3Harris Technologies, Inc.\n",
    "#\n",
    "#    Licensed under the Apache License, Version 2.0 (the \"License\");\n",
    "#    you may not use this file except in compliance with the License.\n",
    "#    You may obtain a copy of the License at\n",
    "#\n",
    "#        http://www.apache.org/licenses/LICENSE-2.0\n",
    "#\n",
    "#    Unless required by applicable law or agreed to in writing, software\n",
    "#    distributed under the License is distributed on an \"AS IS\" BASIS,\n",
    "#    WITHOUT WARRANTIES OR CONDITIONS OF ANY KIND, either express or implied.\n",
    "#    See the License for the specific language governing permissions and\n",
    "#    limitations under the License.\n",
    "#"
   ]
  },
  {
   "cell_type": "code",
   "execution_count": 2,
   "metadata": {},
   "outputs": [],
   "source": [
    "import numpy as np \n",
    "import sympy\n",
    "\n",
    "from copy import copy\n",
    "\n",
    "import matplotlib.pyplot as plt\n",
    "\n",
    "from pprint import pprint\n",
    "\n",
    "import pandas as pd"
   ]
  },
  {
   "cell_type": "code",
   "execution_count": 3,
   "metadata": {},
   "outputs": [],
   "source": [
    "def print_matrix_info(matrix_name, return_val: bool=False):\n",
    "    A = globals()[matrix_name]\n",
    "    \n",
    "    A_tol = copy(A)\n",
    "    A_tol[np.abs(A) < 1e-14] = 0.0 # truncate really small values to zero.\n",
    "    \n",
    "    num_elements = np.size(A_tol)\n",
    "    num_nonzero_elements = np.count_nonzero(A_tol)\n",
    "    unique_elements = np.unique(A_tol)\n",
    "    num_unique_elements = len(unique_elements)\n",
    "    if 0.0 in unique_elements:\n",
    "        num_unique_nonzero_elements = num_unique_elements - 1 # minus 1 because not including zero!\n",
    "    else:\n",
    "        num_unique_nonzero_elements = num_unique_elements\n",
    "\n",
    "    description = (f\"{matrix_name}, shape={A.shape}, rank={np.linalg.matrix_rank(A)}, num_elements={num_elements}, num_nonzero={num_nonzero_elements}, num_unique={num_unique_elements}, num_unique_nonzero={num_unique_nonzero_elements}\")\n",
    "    if return_val:\n",
    "        return description\n",
    "    else: \n",
    "        print(description)\n"
   ]
  },
  {
   "cell_type": "code",
   "execution_count": 4,
   "metadata": {},
   "outputs": [
    {
     "name": "stdout",
     "output_type": "stream",
     "text": [
      "WARNING!!!  These matrices have not been scaled by the tau parameter yet!\n",
      "F1_matrix, shape=(27, 27), rank=23, num_elements=729, num_nonzero=729, num_unique=14, num_unique_nonzero=14\n",
      "F2_matrix, shape=(27, 729), rank=6, num_elements=19683, num_nonzero=15180, num_unique=43, num_unique_nonzero=42\n",
      "F3_matrix, shape=(27, 19683), rank=6, num_elements=531441, num_nonzero=409860, num_unique=43, num_unique_nonzero=42\n"
     ]
    }
   ],
   "source": [
    "# Load the F-matrices that were created in `bounding_A_norm.ipynb`\n",
    "\n",
    "F1_matrix = np.load(\"F_1_matrix.npz\")[\"F_1_matrix\"]\n",
    "F2_matrix = np.load(\"F_2_matrix.npz\")[\"F_2_matrix\"]\n",
    "F3_matrix = np.load(\"F_3_matrix.npz\")[\"F_3_matrix\"]\n",
    "\n",
    "print(\"WARNING!!!  These matrices have not been scaled by the tau parameter yet!\")\n",
    "print_matrix_info(matrix_name=\"F1_matrix\")\n",
    "print_matrix_info(matrix_name=\"F2_matrix\")\n",
    "print_matrix_info(matrix_name=\"F3_matrix\")"
   ]
  },
  {
   "cell_type": "code",
   "execution_count": 5,
   "metadata": {},
   "outputs": [
    {
     "name": "stdout",
     "output_type": "stream",
     "text": [
      "All norms are the `infinity` norm\n",
      "F1_norm: 8.40740740740741/tau\n",
      "F2_norm: 565.333333333333/tau\n",
      "F3_norm: 7632.0/tau\n",
      "\n",
      "If tau=0.6, then...\n",
      "\tF1_norm: 14.0123456790123\n",
      "\tF2_norm: 942.222222222223\n",
      "\tF3_norm: 12720.0000000000\n",
      "\n",
      "\tS_norm: 2\n"
     ]
    }
   ],
   "source": [
    "tau = sympy.Symbol(\"tau\")\n",
    "\n",
    "F1_norm =  (1/tau)*(np.linalg.norm(F1_matrix, ord=np.inf))\n",
    "F2_norm =  (1/tau)*(np.linalg.norm(F2_matrix, ord=np.inf))\n",
    "F3_norm =  (1/tau)*(np.linalg.norm(F3_matrix, ord=np.inf))\n",
    "\n",
    "print(\"All norms are the `infinity` norm\")\n",
    "print(f\"F1_norm: {F1_norm}\")\n",
    "print(f\"F2_norm: {F2_norm}\")\n",
    "print(f\"F3_norm: {F3_norm}\")\n",
    "\n",
    "tau_val = 0.6\n",
    "F1_norm_val =  F1_norm.evalf(subs={tau: tau_val})\n",
    "F2_norm_val =  F2_norm.evalf(subs={tau: tau_val})\n",
    "F3_norm_val =  F3_norm.evalf(subs={tau: tau_val})\n",
    "\n",
    "\n",
    "S_norm_val = 2\n",
    "S_norm = S_norm_val\n",
    "\n",
    "print(f\"\\nIf tau={tau_val}, then...\")\n",
    "print(f\"\\tF1_norm: {F1_norm_val}\")\n",
    "print(f\"\\tF2_norm: {F2_norm_val}\")\n",
    "print(f\"\\tF3_norm: {F3_norm_val}\")\n",
    "\n",
    "print(f\"\\n\\tS_norm: {S_norm_val}\")\n"
   ]
  },
  {
   "cell_type": "code",
   "execution_count": 6,
   "metadata": {},
   "outputs": [
    {
     "name": "stdout",
     "output_type": "stream",
     "text": [
      "Reynolds numbers:\n",
      "[10.0, 100.0, 1000.0, 10000.0, 100000.0, 1000000.0, 10000000.0, 100000000.0]\n",
      "\n",
      "Time discretization from table 8 (sphere instances):\n",
      "[332.3363, 3.323363, 0.03323363, 0.0003323363, 3.323363e-06, 3.323363e-08, 3.323363e-10, 3.323363e-12]\n"
     ]
    }
   ],
   "source": [
    "print(f\"Reynolds numbers:\")\n",
    "Re = [\n",
    "    1e1,\n",
    "    1e2,\n",
    "    1e3,\n",
    "    1e4,\n",
    "    1e5,\n",
    "    1e6,\n",
    "    1e7,\n",
    "    1e8\n",
    "]\n",
    "print(Re)\n",
    "\n",
    "\n",
    "\n",
    "print(f\"\\nTime discretization from table 8 (sphere instances):\")\n",
    "delta_t = [\n",
    "    3.323363e2,\n",
    "    3.323363e0,\n",
    "    3.323363e-2,\n",
    "    3.323363e-4,\n",
    "    3.323363e-6,\n",
    "    3.323363e-8,\n",
    "    3.323363e-10,\n",
    "    3.323363e-12\n",
    "]\n",
    "print(delta_t)"
   ]
  },
  {
   "cell_type": "markdown",
   "metadata": {},
   "source": [
    "### From the Appendix: Time domain convergence of the Carleman linearized system:\n",
    "\n",
    "For some evolution time $T_c$ (in lattice units), as the truncation order $K$ is increased, $K \\longrightarrow \\infty$, the error from the truncated Carleman linearized system becomes arbitrarily small.  Theorem I.3 establishes a lower and upper bound on $T_c$ as\n",
    "\n",
    "$ \\frac{1}{2\\|\\phi_0\\| \\left( \\| F_2\\| + \\|F_3\\|\\right) + \\|S\\| + \\|F_1\\| + \\|F_2 \\| } \\leq T_c \\le \\frac{1}{2\\|\\phi_0\\| \\left( \\|F_2\\| + \\|F_3\\| \\right)} $,\n",
    "\n",
    "where all norms are the $\\infty$-norm and $\\phi$ represents the variables of the Carleman linearized system as \n",
    "$\\phi = f^{\\otimes 1} \\oplus f^{\\otimes 2} \\oplus f^{\\otimes 3} \\oplus ... \\oplus f^{\\otimes K}$,\n",
    "and $\\phi_0 = \\phi(t=0)$ is some initial solution.\n",
    "\n",
    "We estimate $\\| \\phi_0 \\|_\\infty$ as follows.  In the initial conditions, the ambient flow is in the $x$-direction, so $\\mathbf{u} = (u, 0, 0)$.    \n",
    "\n",
    "\n",
    "\n",
    "\n"
   ]
  },
  {
   "cell_type": "code",
   "execution_count": 7,
   "metadata": {},
   "outputs": [
    {
     "name": "stdout",
     "output_type": "stream",
     "text": [
      "Tc_lower_bound: 1/(16394.6666666667*phi0/tau + 2 + 573.740740740741/tau)\n",
      "Tc_upper_bound: 6.09954456733897e-5*tau/phi0\n",
      "\n",
      "If tau=0.6 and phi0=0.29580246914876046, then...\n",
      "\tTc_lower_bound: 0.000110608791085279\n",
      "\tTc_upper_bound: 0.000123721980784511\n",
      "\n",
      "(See the initial_flow_vector.ipynb for a justification of the value for phi0)\n"
     ]
    }
   ],
   "source": [
    "phi0 = sympy.Symbol(\"phi0\")\n",
    "\n",
    "Tc_lower_bound = 1/(2*phi0*(F2_norm + F3_norm) + S_norm + F1_norm + F2_norm)\n",
    "Tc_upper_bound = 1/(2*phi0*(F2_norm + F3_norm))\n",
    "\n",
    "print(f\"Tc_lower_bound: {Tc_lower_bound}\")\n",
    "print(f\"Tc_upper_bound: {Tc_upper_bound}\")\n",
    "\n",
    "\n",
    "phi0_val = 0.29580246914876046\n",
    "Tc_lower_bound_val = Tc_lower_bound.evalf(subs={tau:tau_val, phi0:phi0_val})\n",
    "Tc_upper_bound_val = Tc_upper_bound.evalf(subs={tau:tau_val, phi0:phi0_val})\n",
    "\n",
    "print(f\"\\nIf tau={tau_val} and phi0={phi0_val}, then...\")\n",
    "print(f\"\\tTc_lower_bound: {Tc_lower_bound_val}\")\n",
    "print(f\"\\tTc_upper_bound: {Tc_upper_bound_val}\")\n",
    "\n",
    "\n",
    "print(f\"\\n(See the initial_flow_vector.ipynb for a justification of the value for phi0)\")\n"
   ]
  },
  {
   "cell_type": "markdown",
   "metadata": {},
   "source": [
    "## Commentary:\n",
    "\n",
    "As the units for $T_c$ are lattice units and the upper bound is below 1, this implies that we cannot guarantee convergence for even one lattice time step.  The error may actually be Ok, but we cannot guarantee it.\n",
    "\n",
    "We proceed to calculate bounds on the physical evolution time $T^*$ which is related to the lattice evolution time $T$ as $\\frac{T^*}{\\Delta t} = T$."
   ]
  },
  {
   "cell_type": "code",
   "execution_count": 8,
   "metadata": {},
   "outputs": [
    {
     "name": "stderr",
     "output_type": "stream",
     "text": [
      "/tmp/ipykernel_265940/3954203516.py:11: FutureWarning: Setting an item of incompatible dtype is deprecated and will raise an error in a future version of pandas. Value '0.0367593163767546' has dtype incompatible with float64, please explicitly cast to a compatible dtype first.\n",
      "  df.loc[j, \"$T^*$ lower bound\"] = Tc_lower_bound_val*Delta_t\n",
      "/tmp/ipykernel_265940/3954203516.py:12: FutureWarning: Setting an item of incompatible dtype is deprecated and will raise an error in a future version of pandas. Value '0.0411173053225955' has dtype incompatible with float64, please explicitly cast to a compatible dtype first.\n",
      "  df.loc[j, \"$T^*$ upper bound\"] = Tc_upper_bound_val*Delta_t\n"
     ]
    },
    {
     "data": {
      "text/html": [
       "<div>\n",
       "<style scoped>\n",
       "    .dataframe tbody tr th:only-of-type {\n",
       "        vertical-align: middle;\n",
       "    }\n",
       "\n",
       "    .dataframe tbody tr th {\n",
       "        vertical-align: top;\n",
       "    }\n",
       "\n",
       "    .dataframe thead th {\n",
       "        text-align: right;\n",
       "    }\n",
       "</style>\n",
       "<table border=\"1\" class=\"dataframe\">\n",
       "  <thead>\n",
       "    <tr style=\"text-align: right;\">\n",
       "      <th></th>\n",
       "      <th>Re</th>\n",
       "      <th>$\\Delta t$</th>\n",
       "      <th>$T^*$ lower bound</th>\n",
       "      <th>$T^*$ upper bound</th>\n",
       "    </tr>\n",
       "  </thead>\n",
       "  <tbody>\n",
       "    <tr>\n",
       "      <th>0</th>\n",
       "      <td>10.0</td>\n",
       "      <td>3.323363e+02</td>\n",
       "      <td>0.0367593163767546</td>\n",
       "      <td>0.0411173053225955</td>\n",
       "    </tr>\n",
       "    <tr>\n",
       "      <th>1</th>\n",
       "      <td>100.0</td>\n",
       "      <td>3.323363e+00</td>\n",
       "      <td>0.000367593163767546</td>\n",
       "      <td>0.000411173053225955</td>\n",
       "    </tr>\n",
       "    <tr>\n",
       "      <th>2</th>\n",
       "      <td>1000.0</td>\n",
       "      <td>3.323363e-02</td>\n",
       "      <td>3.67593163767546e-6</td>\n",
       "      <td>4.11173053225955e-6</td>\n",
       "    </tr>\n",
       "    <tr>\n",
       "      <th>3</th>\n",
       "      <td>10000.0</td>\n",
       "      <td>3.323363e-04</td>\n",
       "      <td>3.67593163767546e-8</td>\n",
       "      <td>4.11173053225955e-8</td>\n",
       "    </tr>\n",
       "    <tr>\n",
       "      <th>4</th>\n",
       "      <td>100000.0</td>\n",
       "      <td>3.323363e-06</td>\n",
       "      <td>3.67593163767546e-10</td>\n",
       "      <td>4.11173053225955e-10</td>\n",
       "    </tr>\n",
       "    <tr>\n",
       "      <th>5</th>\n",
       "      <td>1000000.0</td>\n",
       "      <td>3.323363e-08</td>\n",
       "      <td>3.67593163767546e-12</td>\n",
       "      <td>4.11173053225955e-12</td>\n",
       "    </tr>\n",
       "    <tr>\n",
       "      <th>6</th>\n",
       "      <td>10000000.0</td>\n",
       "      <td>3.323363e-10</td>\n",
       "      <td>3.67593163767546e-14</td>\n",
       "      <td>4.11173053225955e-14</td>\n",
       "    </tr>\n",
       "    <tr>\n",
       "      <th>7</th>\n",
       "      <td>100000000.0</td>\n",
       "      <td>3.323363e-12</td>\n",
       "      <td>3.67593163767546e-16</td>\n",
       "      <td>4.11173053225955e-16</td>\n",
       "    </tr>\n",
       "  </tbody>\n",
       "</table>\n",
       "</div>"
      ],
      "text/plain": [
       "            Re    $\\Delta t$     $T^*$ lower bound     $T^*$ upper bound\n",
       "0         10.0  3.323363e+02    0.0367593163767546    0.0411173053225955\n",
       "1        100.0  3.323363e+00  0.000367593163767546  0.000411173053225955\n",
       "2       1000.0  3.323363e-02   3.67593163767546e-6   4.11173053225955e-6\n",
       "3      10000.0  3.323363e-04   3.67593163767546e-8   4.11173053225955e-8\n",
       "4     100000.0  3.323363e-06  3.67593163767546e-10  4.11173053225955e-10\n",
       "5    1000000.0  3.323363e-08  3.67593163767546e-12  4.11173053225955e-12\n",
       "6   10000000.0  3.323363e-10  3.67593163767546e-14  4.11173053225955e-14\n",
       "7  100000000.0  3.323363e-12  3.67593163767546e-16  4.11173053225955e-16"
      ]
     },
     "metadata": {},
     "output_type": "display_data"
    }
   ],
   "source": [
    "data = {\n",
    "    \"Re\":Re,\n",
    "    \"$\\Delta t$\": delta_t,\n",
    "    \"$T^*$ lower bound\": [0.0]*8,\n",
    "    \"$T^*$ upper bound\": [0.0]*8    \n",
    "}\n",
    "df = pd.DataFrame(data)\n",
    "\n",
    "for j in range(8):\n",
    "    Delta_t = df.loc[j, \"$\\Delta t$\" ] \n",
    "    df.loc[j, \"$T^*$ lower bound\"] = Tc_lower_bound_val*Delta_t\n",
    "    df.loc[j, \"$T^*$ upper bound\"] = Tc_upper_bound_val*Delta_t\n",
    "    \n",
    "display(df)"
   ]
  }
 ],
 "metadata": {
  "kernelspec": {
   "display_name": ".venv",
   "language": "python",
   "name": "python3"
  },
  "language_info": {
   "codemirror_mode": {
    "name": "ipython",
    "version": 3
   },
   "file_extension": ".py",
   "mimetype": "text/x-python",
   "name": "python",
   "nbconvert_exporter": "python",
   "pygments_lexer": "ipython3",
   "version": "3.10.12"
  }
 },
 "nbformat": 4,
 "nbformat_minor": 2
}
