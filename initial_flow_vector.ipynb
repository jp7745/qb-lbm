{
 "cells": [
  {
   "cell_type": "code",
   "execution_count": 1,
   "metadata": {},
   "outputs": [],
   "source": [
    "# Copyright 2025 L3Harris Technologies, Inc.\n",
    "#\n",
    "#    Licensed under the Apache License, Version 2.0 (the \"License\");\n",
    "#    you may not use this file except in compliance with the License.\n",
    "#    You may obtain a copy of the License at\n",
    "#\n",
    "#        http://www.apache.org/licenses/LICENSE-2.0\n",
    "#\n",
    "#    Unless required by applicable law or agreed to in writing, software\n",
    "#    distributed under the License is distributed on an \"AS IS\" BASIS,\n",
    "#    WITHOUT WARRANTIES OR CONDITIONS OF ANY KIND, either express or implied.\n",
    "#    See the License for the specific language governing permissions and\n",
    "#    limitations under the License.\n",
    "#"
   ]
  },
  {
   "cell_type": "code",
   "execution_count": 2,
   "metadata": {},
   "outputs": [],
   "source": [
    "import numpy as np \n",
    "import sympy\n",
    "\n",
    "from copy import copy\n",
    "\n",
    "import matplotlib.pyplot as plt\n",
    "\n",
    "from pprint import pprint"
   ]
  },
  {
   "cell_type": "code",
   "execution_count": 3,
   "metadata": {},
   "outputs": [
    {
     "name": "stdout",
     "output_type": "stream",
     "text": [
      "number of velocity vectors: 27\n"
     ]
    }
   ],
   "source": [
    "# Table 15 in the manuscript.\n",
    "\n",
    "Q = 27\n",
    "\n",
    "# Weights\n",
    "# F1 is symmetric if the weights are uniform... but they are not uniform.\n",
    "w = np.zeros(Q,dtype=float)\n",
    "\n",
    "# Vectors\n",
    "c = np.zeros((Q,3), dtype=float)\n",
    "\n",
    "w[0], c[0] = 1/216,      ( 1, 1, 1 )\n",
    "w[1], c[1] = 1/216,      ( -1, 1, 1 )\n",
    "w[2], c[2] = 1/54,       ( 0, 1, 1 )\n",
    "w[3], c[3] = 1/216,      ( 1, -1, 1 )\n",
    "w[4], c[4] = 1/216,      ( -1, -1, 1 )\n",
    "w[5], c[5] = 1/54,       ( 0, -1, 1 )\n",
    "w[6], c[6] = 1/54,       ( 1, 0, 1 )\n",
    "w[7], c[7] = 1/54,       ( -1, 0, 1 )\n",
    "w[8], c[8] = 2/27,       ( 0, 0, 1 )\n",
    "w[9], c[9] = 1/216,      ( 1, 1, -1 )\n",
    "w[10], c[10] = 1/216,    ( -1, 1, -1 )\n",
    "w[11], c[11] = 1/54,     ( 0, 1, -1 )\n",
    "w[12], c[12] = 1/216,    ( 1, -1, -1 )\n",
    "w[13], c[13] = 1/216,    ( -1, -1, -1 )\n",
    "w[14], c[14] = 1/54,     ( 0, -1, -1 )\n",
    "w[15], c[15] = 1/54,     ( 1, 0, -1 )\n",
    "w[16], c[16] = 1/54,     ( -1, 0, -1 )\n",
    "w[17], c[17] = 2/27,     ( 0, 0, -1 )\n",
    "w[18], c[18] = 1/54,     ( 1, 1, 0 )\n",
    "w[19], c[19] = 1/54,     ( -1, 1, 0 )\n",
    "w[20], c[20] = 2/27,     ( 0, 1, 0 )\n",
    "w[21], c[21] = 1/54,     ( 1, -1, 0 )\n",
    "w[22], c[22] = 1/54,     ( -1, -1, 0 )\n",
    "w[23], c[23] = 2/27,     ( 0, -1, 0 )\n",
    "w[24], c[24] = 2/27,     ( 1, 0, 0 )\n",
    "w[25], c[25] = 2/27,     ( -1, 0, 0 )\n",
    "w[26], c[26] = 8/27,     ( 0, 0, 0 )\n",
    "\n",
    "print(f\"number of velocity vectors: {len(c)}\")\n"
   ]
  },
  {
   "cell_type": "code",
   "execution_count": 4,
   "metadata": {},
   "outputs": [
    {
     "name": "stdout",
     "output_type": "stream",
     "text": [
      "[u 0 0]\n",
      "length of feq is 27\n"
     ]
    }
   ],
   "source": [
    "u = sympy.Symbol(\"u\")\n",
    "u_vec = np.array([u,0,0])\n",
    "print(u_vec)\n",
    "\n",
    "feq = np.array(np.zeros(Q), dtype=object)\n",
    "for i in range(Q):\n",
    "    # equation 12b:\n",
    "    # assume \\rho = 1\n",
    "    feq[i] = 1.0\n",
    "    feq[i] += (3.0)*np.inner(u_vec,c[i])\n",
    "    feq[i] += (9.0/2)*(np.inner(u_vec,c[i]))**2\n",
    "    feq[i] += (-3.0/2)*np.inner(u_vec,u_vec)\n",
    "    feq[i] *= w[i]\n",
    "    # print(f\"{i}: {feq[i]}\")\n",
    "\n",
    "print(f\"length of feq is {len(feq)}\")"
   ]
  },
  {
   "cell_type": "code",
   "execution_count": 5,
   "metadata": {},
   "outputs": [
    {
     "name": "stdout",
     "output_type": "stream",
     "text": [
      "\n",
      "Problem instances table 8 (sphere instances):\n",
      "[10.0, 1.003e-05, 332.33632, 0.1]\n",
      "[100.0, 0.0001003, 3.3233632, 0.01]\n",
      "[1000.0, 0.001003, 0.033233632, 0.001]\n",
      "[10000.0, 0.01003, 0.00033233632, 0.0001]\n",
      "[100000.0, 0.1003, 3.3233632e-06, 1e-05]\n",
      "[1000000.0, 1.003, 3.3233632e-08, 1e-06]\n",
      "[10000000.0, 10.03, 3.3233632e-10, 1e-07]\n",
      "[100000000.0, 100.3, 3.3233632e-12, 1e-08]\n",
      "\n",
      "note that velocity in lattice units is the same for all problem instances:\n",
      "Re=10.0,\tu_lattice_units = 0.033333332896\n",
      "Re=100.0,\tu_lattice_units = 0.033333332896000004\n",
      "Re=1000.0,\tu_lattice_units = 0.033333332896\n",
      "Re=10000.0,\tu_lattice_units = 0.033333332896000004\n",
      "Re=100000.0,\tu_lattice_units = 0.033333332896\n",
      "Re=1000000.0,\tu_lattice_units = 0.033333332896000004\n",
      "Re=10000000.0,\tu_lattice_units = 0.033333332896000004\n",
      "Re=100000000.0,\tu_lattice_units = 0.033333332896\n"
     ]
    }
   ],
   "source": [
    "Re_idx = 0\n",
    "u_idx = 1\n",
    "delta_t_idx = 2\n",
    "delta_x_idx = 3\n",
    "L = 1.0\n",
    "nu = 0.000001003\n",
    "\n",
    "print(f\"\\nProblem instances table 8 (sphere instances):\")\n",
    "problem_instances = [\n",
    "    [1e1, 0.000010030e0, 332.33632e0,  0.1e0],\n",
    "    [1e2, 0.000010030e1, 332.33632e-2, 0.1e-1],\n",
    "    [1e3, 0.000010030e2, 332.33632e-4, 0.1e-2],\n",
    "    [1e4, 0.000010030e3, 332.33632e-6, 0.1e-3],\n",
    "    [1e5, 0.000010030e4, 332.33632e-8, 0.1e-4],\n",
    "    [1e6, 0.000010030e5, 332.33632e-10, 0.1e-5],\n",
    "    [1e7, 0.000010030e6, 332.33632e-12, 0.1e-6],\n",
    "    [1e8, 0.000010030e7, 332.33632e-14, 0.1e-7]\n",
    "]\n",
    "for p in problem_instances:\n",
    "    print(p)\n",
    "\n",
    "print(\"\\nnote that velocity in lattice units is the same for all problem instances:\")\n",
    "for p in problem_instances:\n",
    "    Re = p[Re_idx]\n",
    "    u_val = p[u_idx]\n",
    "    delta_t = p[delta_t_idx]\n",
    "    delta_x = p[delta_x_idx]\n",
    "    print(f\"Re={Re},\\tu_lattice_units = {u_val*delta_t/delta_x}\")"
   ]
  },
  {
   "cell_type": "code",
   "execution_count": 6,
   "metadata": {},
   "outputs": [
    {
     "name": "stdout",
     "output_type": "stream",
     "text": [
      "0\tfeq[0]=0.005108024684879012\n",
      "1\tfeq[1]=0.0041820987711012345\n",
      "2\tfeq[2]=0.01848765432179753\n",
      "3\tfeq[3]=0.005108024684879012\n",
      "4\tfeq[4]=0.0041820987711012345\n",
      "5\tfeq[5]=0.01848765432179753\n",
      "6\tfeq[6]=0.02043209873951605\n",
      "7\tfeq[7]=0.016728395084404938\n",
      "8\tfeq[8]=0.07395061728719012\n",
      "9\tfeq[9]=0.005108024684879012\n",
      "10\tfeq[10]=0.0041820987711012345\n",
      "11\tfeq[11]=0.01848765432179753\n",
      "12\tfeq[12]=0.005108024684879012\n",
      "13\tfeq[13]=0.0041820987711012345\n",
      "14\tfeq[14]=0.01848765432179753\n",
      "15\tfeq[15]=0.02043209873951605\n",
      "16\tfeq[16]=0.016728395084404938\n",
      "17\tfeq[17]=0.07395061728719012\n",
      "18\tfeq[18]=0.02043209873951605\n",
      "19\tfeq[19]=0.016728395084404938\n",
      "20\tfeq[20]=0.07395061728719012\n",
      "21\tfeq[21]=0.02043209873951605\n",
      "22\tfeq[22]=0.016728395084404938\n",
      "23\tfeq[23]=0.07395061728719012\n",
      "24\tfeq[24]=0.0817283949580642\n",
      "25\tfeq[25]=0.06691358033761975\n",
      "26\tfeq[26]=0.29580246914876046\n"
     ]
    },
    {
     "data": {
      "text/plain": [
       "<StemContainer object of 3 artists>"
      ]
     },
     "execution_count": 6,
     "metadata": {},
     "output_type": "execute_result"
    },
    {
     "data": {
      "image/png": "[encoded data removed]",
      "text/plain": [
       "<Figure size 640x480 with 1 Axes>"
      ]
     },
     "metadata": {},
     "output_type": "display_data"
    }
   ],
   "source": [
    "u_val_lattice_units = 0.033333332896\n",
    "\n",
    "feq_val = np.zeros(Q)\n",
    "for i in range(Q):\n",
    "    feq_val[i] = feq[i].evalf(subs={u:u_val_lattice_units})\n",
    "    # print(f\"{i}\\tfeq[{i}]={feq[i]}\\t\\t={feq_val[i]}\")\n",
    "    print(f\"{i}\\tfeq[{i}]={feq_val[i]}\")\n",
    "    \n",
    "plt.stem(feq_val)"
   ]
  },
  {
   "cell_type": "code",
   "execution_count": 7,
   "metadata": {},
   "outputs": [
    {
     "name": "stdout",
     "output_type": "stream",
     "text": [
      "after rounding off numerical issues...\n",
      "u = [[0.03333333 0.         0.        ]]\n"
     ]
    }
   ],
   "source": [
    "# Verify: Reconstruct the flow vector from the individual lattice populations.  It should be [u, 0, 0]. \n",
    "\n",
    "u_reconstructed = np.zeros(3)\n",
    "for i in range(Q):\n",
    "    u_reconstructed += feq_val[i]*c[i]\n",
    "\n",
    "print(f\"after rounding off numerical issues...\")\n",
    "u_reconstructed[u_reconstructed < 1e-14] = 0\n",
    "print(f\"u = [{u_reconstructed}]\")"
   ]
  },
  {
   "cell_type": "markdown",
   "metadata": {},
   "source": [
    "Note that $\\phi = f^{\\otimes 1} \\bigoplus f^{\\otimes 2} \\bigoplus f^{\\otimes 3}$.  We have calculated $\\| f_0 \\|_\\infty$, but we need to find $\\| \\phi_0 \\|_\\infty$.  (It turns out to be the same as $\\| f_0 \\|_\\infty$)."
   ]
  },
  {
   "cell_type": "code",
   "execution_count": 8,
   "metadata": {},
   "outputs": [
    {
     "name": "stdout",
     "output_type": "stream",
     "text": [
      "phi0_norm = 0.29580246914876046\n"
     ]
    },
    {
     "data": {
      "image/png": "[encoded data removed]",
      "text/plain": [
       "<Figure size 640x480 with 1 Axes>"
      ]
     },
     "metadata": {},
     "output_type": "display_data"
    }
   ],
   "source": [
    "phi0 = copy(feq_val)\n",
    "phi0 = np.concatenate((phi0, np.kron(feq_val, feq_val)))\n",
    "phi0 = np.concatenate((phi0, np.kron(feq_val, np.kron(feq_val, feq_val))))\n",
    "\n",
    "plt.stem(phi0)\n",
    "\n",
    "phi0_norm = np.linalg.norm(phi0, ord=np.inf)\n",
    "print(f\"phi0_norm = {phi0_norm}\")\n"
   ]
  }
 ],
 "metadata": {
  "kernelspec": {
   "display_name": ".venv",
   "language": "python",
   "name": "python3"
  },
  "language_info": {
   "codemirror_mode": {
    "name": "ipython",
    "version": 3
   },
   "file_extension": ".py",
   "mimetype": "text/x-python",
   "name": "python",
   "nbconvert_exporter": "python",
   "pygments_lexer": "ipython3",
   "version": "3.10.12"
  }
 },
 "nbformat": 4,
 "nbformat_minor": 2
}
